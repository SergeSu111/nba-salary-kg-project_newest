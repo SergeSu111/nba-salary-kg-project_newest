{
 "cells": [
  {
   "cell_type": "markdown",
   "id": "fc51bf45",
   "metadata": {},
   "source": [
    "先不做gridsearchCV 而是先确定哪个模型初步表现最好. 哪个target最有解释力和预测里. 是否存在明显欠拟合和过拟合. \n",
    "\n",
    "在本阶段中，我们基于 :contentReference[oaicite:0]{index=0} 2020–2021 至 2024–2025 赛季的场上统计数据，系统性地完成了基准模型的搭建。  \n",
    "数据采用时间序列划分（2020–2023 训练，2024–2025 测试），以避免未来信息泄露。\n",
    "\n",
    "我们分别测试了 5 类模型（Ridge、RF、XGB、LGBM、MLP）和 5 种目标变量（`salary_usd`、`log_salary`、`salary_cap_ratio`、`log_salary_cap_ratio`、`salary_cap_equiv`），并使用 `core`（10 特征）与 `full`（40 特征）两种特征组合进行对比。\n",
    "\n",
    "结果显示：\n",
    "- `log_salary_cap_ratio` 目标表现最稳定（R²≈0.74，RMSE≈0.04）；\n",
    "- `salary_cap_ratio` 与 `salary_cap_equiv` 也接近；\n",
    "- 而 `log_salary` 及原始薪资目标的表现较差。\n",
    "- RF、XGB、LGBM 的结果显著优于 Ridge 和 MLP，说明场上数据与薪资之间关系具有明显的非线性特征。\n",
    "- `full` 特征整体优于 `core` 特征，表明保留更多有效特征有助于提升模型表现。\n",
    "\n",
    "---\n",
    "\n",
    "### ✅ 结论\n",
    "\n",
    "- **最佳 baseline 组合**：`RF + full 特征 + log_salary_cap_ratio`  \n",
    "- XGB 与 LGBM 是次优模型，可在后续调参与扩展阶段重点考虑。  \n",
    "- Ridge 和 MLP 仅作为对照使用。  \n",
    "- Baseline 的 R²≈0.74，已为后续引入场下数据、知识图谱与 GNN 建模提供清晰参考基线。\n",
    "\n",
    "---\n",
    "\n",
    "### 🧪 后续方向\n",
    "\n",
    "- EDA_5 阶段将针对 2–4 组较优组合（不同 target + RF/XGB/LGBM）做交叉验证与调参。  \n",
    "- 确定最终最优组合后，再与加入场下数据/知识图谱后的结果进行对比，以验证增益效果。"
   ]
  },
  {
   "cell_type": "code",
   "execution_count": 7,
   "id": "1fd7dc7f",
   "metadata": {},
   "outputs": [
    {
     "name": "stdout",
     "output_type": "stream",
     "text": [
      "Outputs will be saved to: C:\\nba-salary-kg-project_newest\\notebooks\\reports\\EDA4_time_split\\20251028_162508\n"
     ]
    }
   ],
   "source": [
    "# %% imports & config\n",
    "from pathlib import Path\n",
    "import json, time\n",
    "import pandas as pd\n",
    "import numpy as np\n",
    "\n",
    "from sklearn.model_selection import train_test_split\n",
    "from sklearn.preprocessing import StandardScaler\n",
    "from sklearn.compose import ColumnTransformer\n",
    "from sklearn.pipeline import Pipeline\n",
    "from sklearn.metrics import r2_score, mean_squared_error\n",
    "\n",
    "from sklearn.linear_model import Ridge\n",
    "from sklearn.ensemble import RandomForestRegressor\n",
    "from sklearn.neural_network import MLPRegressor\n",
    "\n",
    "# xgboost / lightgbm 可选\n",
    "try:\n",
    "    import xgboost as xgb\n",
    "    HAS_XGB = True\n",
    "except Exception:\n",
    "    HAS_XGB = False\n",
    "\n",
    "try:\n",
    "    from lightgbm import LGBMRegressor\n",
    "    HAS_LGBM = True\n",
    "except Exception:\n",
    "    HAS_LGBM = False\n",
    "\n",
    "import matplotlib\n",
    "matplotlib.use(\"Agg\")  # 避免某些环境下的 Tk 异常\n",
    "import matplotlib.pyplot as plt\n",
    "\n",
    "RANDOM_STATE = 42\n",
    "\n",
    "# === paths ===\n",
    "DATA_FEAT_PATH = Path(\"../data/processed/training_oncourt_features.parquet\")\n",
    "REPORT_DIR = Path(\"reports/EDA4_time_split\")\n",
    "STAMP = time.strftime(\"%Y%m%d_%H%M%S\")\n",
    "OUT_DIR = REPORT_DIR / STAMP\n",
    "OUT_DIR.mkdir(parents=True, exist_ok=True)\n",
    "\n",
    "# 特征清单（EDA_3 产物）\n",
    "CORE_PATHS = [\n",
    "    Path(\"reports/features/selected_features_core.json\"),\n",
    "    Path(\"reports/features/selected_features_core.txt\"),\n",
    "    Path(\"reports/features/selected_features_core\"),  # 兼容无后缀\n",
    "]\n",
    "FULL_PATHS = [\n",
    "    Path(\"reports/features/selected_features_full.json\"),\n",
    "    Path(\"reports/features/selected_features_full.txt\"),\n",
    "    Path(\"reports/features/selected_features_full\"),\n",
    "]\n",
    "\n",
    "TARGETS = [\n",
    "    \"salary_cap_ratio\",\n",
    "    \"salary_cap_equiv\",\n",
    "    \"log_salary_cap_ratio\",\n",
    "    \"salary_usd\",\n",
    "    \"log_salary\",\n",
    "]\n",
    "\n",
    "TRAIN_SEASONS = [2020, 2021, 2022, 2023]  # 2020-21 ~ 2023-24\n",
    "TEST_SEASONS  = [2024, 2025]              # 2024-25 ~ (未来可扩展)\n",
    "\n",
    "print(f\"Outputs will be saved to: {OUT_DIR.resolve()}\")"
   ]
  },
  {
   "cell_type": "code",
   "execution_count": 8,
   "id": "9207b52d",
   "metadata": {},
   "outputs": [
    {
     "name": "stdout",
     "output_type": "stream",
     "text": [
      "[OK] loaded features from JSON: reports\\features\\selected_features_core.json\n",
      "[OK] loaded features from JSON: reports\\features\\selected_features_full.json\n",
      "Core feats (len=10): ['FP', 'Age', 'Min', 'FTA', 'TOV', 'PTS_per_gp', 'log1p_PF', 'log1p_3PM', 'PTS_per_min', 'OREB_per_min'] ...\n",
      "Full feats (len=40): ['FP', 'PTS', 'Age', 'Min', 'FTA', 'TOV', 'PTS_per_gp', 'log1p_PF', 'log1p_3PM', 'PTS_per_min'] ...\n"
     ]
    }
   ],
   "source": [
    "# %% helper: load feature list (兼容 json / txt / 单列文本)\n",
    "def load_feature_list_try(paths):\n",
    "    for p in paths:\n",
    "        if p.exists():\n",
    "            # try json\n",
    "            try:\n",
    "                obj = json.loads(p.read_text(encoding=\"utf-8\"))\n",
    "                if isinstance(obj, dict) and \"features\" in obj:\n",
    "                    feats = list(obj[\"features\"])\n",
    "                    print(f\"[OK] loaded features from JSON: {p}\")\n",
    "                    return feats\n",
    "                elif isinstance(obj, list):\n",
    "                    print(f\"[OK] loaded features(list) from JSON: {p}\")\n",
    "                    return list(obj)\n",
    "            except Exception:\n",
    "                pass\n",
    "            # try lines\n",
    "            txt = p.read_text(encoding=\"utf-8\").strip()\n",
    "            feats = [line.strip() for line in txt.splitlines() if line.strip()]\n",
    "            print(f\"[OK] loaded features from text lines: {p}\")\n",
    "            return feats\n",
    "    raise FileNotFoundError(f\"Cannot find feature list in: {paths}\")\n",
    "\n",
    "core_feats = load_feature_list_try(CORE_PATHS)\n",
    "full_feats = load_feature_list_try(FULL_PATHS)\n",
    "print(\"Core feats (len={}):\".format(len(core_feats)), core_feats[:10], \"...\")\n",
    "print(\"Full feats (len={}):\".format(len(full_feats)), full_feats[:10], \"...\")"
   ]
  },
  {
   "cell_type": "code",
   "execution_count": 9,
   "id": "36a58917",
   "metadata": {},
   "outputs": [
    {
     "name": "stdout",
     "output_type": "stream",
     "text": [
      "Train seasons: [np.int64(2020), np.int64(2021), np.int64(2022), np.int64(2023)]\n",
      "Test  seasons: [np.int64(2024)]\n",
      "Train shape: (1659, 90) Test shape: (423, 90)\n"
     ]
    }
   ],
   "source": [
    "# %% load data & time-based split\n",
    "df = pd.read_parquet(DATA_FEAT_PATH)\n",
    "\n",
    "# 基础校验\n",
    "must_have = set([\"season\", \"salary_usd\", \"salary_cap_ratio\", \"salary_cap_equiv\", \"log_salary\", \"log_salary_cap_ratio\"])\n",
    "missing = list(must_have - set(df.columns))\n",
    "if missing:\n",
    "    raise KeyError(f\"Missing required columns: {missing}\")\n",
    "\n",
    "# 只保留我们关心的赛季\n",
    "df = df[df[\"season\"].isin(TRAIN_SEASONS + TEST_SEASONS)].copy()\n",
    "\n",
    "# 时间切分\n",
    "df_train = df[df[\"season\"].isin(TRAIN_SEASONS)].copy()\n",
    "df_test  = df[df[\"season\"].isin(TEST_SEASONS)].copy()\n",
    "\n",
    "print(\"Train seasons:\", sorted(df_train[\"season\"].unique()))\n",
    "print(\"Test  seasons:\", sorted(df_test[\"season\"].unique()))\n",
    "print(\"Train shape:\", df_train.shape, \"Test shape:\", df_test.shape)"
   ]
  },
  {
   "cell_type": "code",
   "execution_count": 11,
   "id": "18953ee3",
   "metadata": {},
   "outputs": [],
   "source": [
    " # %% build model helpers (封装五类模型)\n",
    "def fit_ridge(Xtr, ytr, Xte):\n",
    "    # 线性模型需要标准化\n",
    "    pipe = Pipeline([\n",
    "        (\"scaler\", StandardScaler(with_mean=True, with_std=True)),\n",
    "        (\"model\", Ridge(alpha=1.0, random_state=RANDOM_STATE))\n",
    "    ])\n",
    "    pipe.fit(Xtr, ytr)\n",
    "    pred = pipe.predict(Xte)\n",
    "    return \"Ridge\", pipe, pred, None  # 线性模型的系数解释可在后续需要时单独导出\n",
    "\n",
    "def fit_rf(Xtr, ytr, Xte):\n",
    "    rf = RandomForestRegressor(\n",
    "        n_estimators=700, max_depth=None,\n",
    "        random_state=RANDOM_STATE, n_jobs=-1\n",
    "    )\n",
    "    rf.fit(Xtr, ytr)\n",
    "    pred = rf.predict(Xte)\n",
    "    imp = pd.Series(rf.feature_importances_, index=Xtr.columns)\n",
    "    return \"RF\", rf, pred, imp\n",
    "\n",
    "def fit_xgb(Xtr, ytr, Xte):\n",
    "    if not HAS_XGB:\n",
    "        return None, None, None, None\n",
    "    dtr = xgb.DMatrix(Xtr, label=ytr)\n",
    "    dte = xgb.DMatrix(Xte)\n",
    "    params = {\n",
    "        \"objective\": \"reg:squarederror\",\n",
    "        \"max_depth\": 6,\n",
    "        \"eta\": 0.08,\n",
    "        \"subsample\": 0.8,\n",
    "        \"colsample_bytree\": 0.8,\n",
    "        \"seed\": RANDOM_STATE\n",
    "    }\n",
    "    booster = xgb.train(params, dtr, num_boost_round=600)\n",
    "    pred = booster.predict(dte)\n",
    "    gain = booster.get_score(importance_type=\"gain\")\n",
    "    imp = pd.Series({k: gain.get(k, 0.0) for k in Xtr.columns})\n",
    "    return \"XGB\", booster, pred, imp\n",
    "\n",
    "def fit_lgbm(Xtr, ytr, Xte):\n",
    "    if not HAS_LGBM:\n",
    "        return None, None, None, None\n",
    "    lgbm = LGBMRegressor(\n",
    "        n_estimators=800, learning_rate=0.05,\n",
    "        subsample=0.8, colsample_bytree=0.8,\n",
    "        random_state=RANDOM_STATE\n",
    "    )\n",
    "    # 避免 verbose 和早停在不同版本上的签名差异\n",
    "    lgbm.fit(Xtr, ytr)\n",
    "    pred = lgbm.predict(Xte)\n",
    "    imp = pd.Series(lgbm.feature_importances_, index=Xtr.columns)\n",
    "    return \"LGBM\", lgbm, pred, imp\n",
    "\n",
    "def fit_mlp(Xtr, ytr, Xte):\n",
    "    # MLP 也需要标准化\n",
    "    pipe = Pipeline([\n",
    "        (\"scaler\", StandardScaler(with_mean=True, with_std=True)),\n",
    "        (\"mlp\", MLPRegressor(hidden_layer_sizes=(128,64), activation=\"relu\",\n",
    "                             solver=\"adam\", learning_rate_init=1e-3,\n",
    "                             max_iter=800, random_state=RANDOM_STATE))\n",
    "    ])\n",
    "    pipe.fit(Xtr, ytr)\n",
    "    pred = pipe.predict(Xte)\n",
    "    return \"MLP\", pipe, pred, None"
   ]
  },
  {
   "cell_type": "code",
   "execution_count": 12,
   "id": "f5bb8fd4",
   "metadata": {},
   "outputs": [],
   "source": [
    "# %% utilities: eval + plot + save\n",
    "def evaluate_and_log(split_tag, target, feature_tag, Xtr, ytr, Xte, yte, fitters, out_dir):\n",
    "    rows = []\n",
    "    for fit_func in fitters:\n",
    "        name, model, pred, imp = fit_func(Xtr, ytr, Xte)\n",
    "        if name is None:  # xgb/lgbm 不可用时略过\n",
    "            continue\n",
    "        r2  = r2_score(yte, pred)\n",
    "        rmse = mean_squared_error(yte, pred, squared=False)\n",
    "        print(f\"[{feature_tag}/{name}] target={target}  R^2={r2:.4f}  RMSE={rmse:.6f}\")\n",
    "\n",
    "        rows.append({\n",
    "            \"split\": split_tag,\n",
    "            \"features\": feature_tag,\n",
    "            \"model\": name,\n",
    "            \"target\": target,\n",
    "            \"R2\": r2,\n",
    "            \"RMSE\": rmse\n",
    "        })\n",
    "\n",
    "        # 保存散点图（预测 vs 真值）\n",
    "        fig_path = out_dir / f\"scatter_{feature_tag}_{name}_{target}.png\"\n",
    "        plt.figure(figsize=(5,5))\n",
    "        plt.scatter(yte, pred, s=10)\n",
    "        plt.xlabel(f\"True {target}\")\n",
    "        plt.ylabel(f\"Pred {target}\")\n",
    "        lims = [min(yte.min(), pred.min()), max(yte.max(), pred.max())]\n",
    "        plt.plot(lims, lims, linewidth=1)\n",
    "        plt.title(f\"{feature_tag}-{name}: {target} (R2={r2:.3f})\")\n",
    "        plt.tight_layout()\n",
    "        plt.savefig(fig_path, dpi=150)\n",
    "        plt.close()\n",
    "\n",
    "        # 保存重要性（树类）\n",
    "        if imp is not None:\n",
    "            imp = imp.sort_values(ascending=False)\n",
    "            imp_path = out_dir / f\"importance_{feature_tag}_{name}_{target}.csv\"\n",
    "            imp.to_csv(imp_path, header=[\"importance\"])\n",
    "\n",
    "    return pd.DataFrame(rows)\n"
   ]
  },
  {
   "cell_type": "code",
   "execution_count": 13,
   "id": "b72600d2",
   "metadata": {},
   "outputs": [
    {
     "name": "stderr",
     "output_type": "stream",
     "text": [
      "c:\\nba-salary-kg-project_newest\\venv\\Lib\\site-packages\\sklearn\\metrics\\_regression.py:492: FutureWarning: 'squared' is deprecated in version 1.4 and will be removed in 1.6. To calculate the root mean squared error, use the function'root_mean_squared_error'.\n",
      "  warnings.warn(\n"
     ]
    },
    {
     "name": "stdout",
     "output_type": "stream",
     "text": [
      "[core/RF] target=salary_cap_ratio  R^2=0.7422  RMSE=0.046125\n"
     ]
    },
    {
     "name": "stderr",
     "output_type": "stream",
     "text": [
      "c:\\nba-salary-kg-project_newest\\venv\\Lib\\site-packages\\sklearn\\metrics\\_regression.py:492: FutureWarning: 'squared' is deprecated in version 1.4 and will be removed in 1.6. To calculate the root mean squared error, use the function'root_mean_squared_error'.\n",
      "  warnings.warn(\n"
     ]
    },
    {
     "name": "stdout",
     "output_type": "stream",
     "text": [
      "[core/XGB] target=salary_cap_ratio  R^2=0.7273  RMSE=0.047442\n",
      "[LightGBM] [Info] Auto-choosing row-wise multi-threading, the overhead of testing was 0.000558 seconds.\n",
      "You can set `force_row_wise=true` to remove the overhead.\n",
      "And if memory is not enough, you can set `force_col_wise=true`.\n",
      "[LightGBM] [Info] Total Bins 1493\n",
      "[LightGBM] [Info] Number of data points in the train set: 1659, number of used features: 10\n",
      "[LightGBM] [Info] Start training from score 0.077255\n"
     ]
    },
    {
     "name": "stderr",
     "output_type": "stream",
     "text": [
      "c:\\nba-salary-kg-project_newest\\venv\\Lib\\site-packages\\sklearn\\metrics\\_regression.py:492: FutureWarning: 'squared' is deprecated in version 1.4 and will be removed in 1.6. To calculate the root mean squared error, use the function'root_mean_squared_error'.\n",
      "  warnings.warn(\n"
     ]
    },
    {
     "name": "stdout",
     "output_type": "stream",
     "text": [
      "[core/LGBM] target=salary_cap_ratio  R^2=0.7151  RMSE=0.048491\n"
     ]
    },
    {
     "name": "stderr",
     "output_type": "stream",
     "text": [
      "c:\\nba-salary-kg-project_newest\\venv\\Lib\\site-packages\\sklearn\\metrics\\_regression.py:492: FutureWarning: 'squared' is deprecated in version 1.4 and will be removed in 1.6. To calculate the root mean squared error, use the function'root_mean_squared_error'.\n",
      "  warnings.warn(\n",
      "c:\\nba-salary-kg-project_newest\\venv\\Lib\\site-packages\\sklearn\\metrics\\_regression.py:492: FutureWarning: 'squared' is deprecated in version 1.4 and will be removed in 1.6. To calculate the root mean squared error, use the function'root_mean_squared_error'.\n",
      "  warnings.warn(\n"
     ]
    },
    {
     "name": "stdout",
     "output_type": "stream",
     "text": [
      "[core/MLP] target=salary_cap_ratio  R^2=0.6080  RMSE=0.056881\n",
      "[core/Ridge] target=salary_cap_ratio  R^2=0.6300  RMSE=0.055263\n"
     ]
    },
    {
     "name": "stderr",
     "output_type": "stream",
     "text": [
      "c:\\nba-salary-kg-project_newest\\venv\\Lib\\site-packages\\sklearn\\metrics\\_regression.py:492: FutureWarning: 'squared' is deprecated in version 1.4 and will be removed in 1.6. To calculate the root mean squared error, use the function'root_mean_squared_error'.\n",
      "  warnings.warn(\n"
     ]
    },
    {
     "name": "stdout",
     "output_type": "stream",
     "text": [
      "[core/RF] target=salary_cap_equiv  R^2=0.7414  RMSE=6495033.291534\n"
     ]
    },
    {
     "name": "stderr",
     "output_type": "stream",
     "text": [
      "c:\\nba-salary-kg-project_newest\\venv\\Lib\\site-packages\\sklearn\\metrics\\_regression.py:492: FutureWarning: 'squared' is deprecated in version 1.4 and will be removed in 1.6. To calculate the root mean squared error, use the function'root_mean_squared_error'.\n",
      "  warnings.warn(\n"
     ]
    },
    {
     "name": "stdout",
     "output_type": "stream",
     "text": [
      "[core/XGB] target=salary_cap_equiv  R^2=0.7265  RMSE=6679876.469451\n",
      "[LightGBM] [Info] Auto-choosing col-wise multi-threading, the overhead of testing was 0.000151 seconds.\n",
      "You can set `force_col_wise=true` to remove the overhead.\n",
      "[LightGBM] [Info] Total Bins 1493\n",
      "[LightGBM] [Info] Number of data points in the train set: 1659, number of used features: 10\n",
      "[LightGBM] [Info] Start training from score 10861147.057087\n"
     ]
    },
    {
     "name": "stderr",
     "output_type": "stream",
     "text": [
      "c:\\nba-salary-kg-project_newest\\venv\\Lib\\site-packages\\sklearn\\metrics\\_regression.py:492: FutureWarning: 'squared' is deprecated in version 1.4 and will be removed in 1.6. To calculate the root mean squared error, use the function'root_mean_squared_error'.\n",
      "  warnings.warn(\n"
     ]
    },
    {
     "name": "stdout",
     "output_type": "stream",
     "text": [
      "[core/LGBM] target=salary_cap_equiv  R^2=0.7151  RMSE=6817269.786467\n"
     ]
    },
    {
     "name": "stderr",
     "output_type": "stream",
     "text": [
      "c:\\nba-salary-kg-project_newest\\venv\\Lib\\site-packages\\sklearn\\neural_network\\_multilayer_perceptron.py:690: ConvergenceWarning: Stochastic Optimizer: Maximum iterations (800) reached and the optimization hasn't converged yet.\n",
      "  warnings.warn(\n",
      "c:\\nba-salary-kg-project_newest\\venv\\Lib\\site-packages\\sklearn\\metrics\\_regression.py:492: FutureWarning: 'squared' is deprecated in version 1.4 and will be removed in 1.6. To calculate the root mean squared error, use the function'root_mean_squared_error'.\n",
      "  warnings.warn(\n",
      "c:\\nba-salary-kg-project_newest\\venv\\Lib\\site-packages\\sklearn\\metrics\\_regression.py:492: FutureWarning: 'squared' is deprecated in version 1.4 and will be removed in 1.6. To calculate the root mean squared error, use the function'root_mean_squared_error'.\n",
      "  warnings.warn(\n"
     ]
    },
    {
     "name": "stdout",
     "output_type": "stream",
     "text": [
      "[core/MLP] target=salary_cap_equiv  R^2=0.5416  RMSE=8648121.461364\n",
      "[core/Ridge] target=salary_cap_equiv  R^2=0.6300  RMSE=7769300.473269\n"
     ]
    },
    {
     "name": "stderr",
     "output_type": "stream",
     "text": [
      "c:\\nba-salary-kg-project_newest\\venv\\Lib\\site-packages\\sklearn\\metrics\\_regression.py:492: FutureWarning: 'squared' is deprecated in version 1.4 and will be removed in 1.6. To calculate the root mean squared error, use the function'root_mean_squared_error'.\n",
      "  warnings.warn(\n"
     ]
    },
    {
     "name": "stdout",
     "output_type": "stream",
     "text": [
      "[core/RF] target=log_salary_cap_ratio  R^2=0.7360  RMSE=0.040734\n"
     ]
    },
    {
     "name": "stderr",
     "output_type": "stream",
     "text": [
      "c:\\nba-salary-kg-project_newest\\venv\\Lib\\site-packages\\sklearn\\metrics\\_regression.py:492: FutureWarning: 'squared' is deprecated in version 1.4 and will be removed in 1.6. To calculate the root mean squared error, use the function'root_mean_squared_error'.\n",
      "  warnings.warn(\n"
     ]
    },
    {
     "name": "stdout",
     "output_type": "stream",
     "text": [
      "[core/XGB] target=log_salary_cap_ratio  R^2=0.7233  RMSE=0.041707\n",
      "[LightGBM] [Info] Auto-choosing col-wise multi-threading, the overhead of testing was 0.000176 seconds.\n",
      "You can set `force_col_wise=true` to remove the overhead.\n",
      "[LightGBM] [Info] Total Bins 1493\n",
      "[LightGBM] [Info] Number of data points in the train set: 1659, number of used features: 10\n",
      "[LightGBM] [Info] Start training from score 0.071419\n"
     ]
    },
    {
     "name": "stderr",
     "output_type": "stream",
     "text": [
      "c:\\nba-salary-kg-project_newest\\venv\\Lib\\site-packages\\sklearn\\metrics\\_regression.py:492: FutureWarning: 'squared' is deprecated in version 1.4 and will be removed in 1.6. To calculate the root mean squared error, use the function'root_mean_squared_error'.\n",
      "  warnings.warn(\n"
     ]
    },
    {
     "name": "stdout",
     "output_type": "stream",
     "text": [
      "[core/LGBM] target=log_salary_cap_ratio  R^2=0.7066  RMSE=0.042942\n"
     ]
    },
    {
     "name": "stderr",
     "output_type": "stream",
     "text": [
      "c:\\nba-salary-kg-project_newest\\venv\\Lib\\site-packages\\sklearn\\metrics\\_regression.py:492: FutureWarning: 'squared' is deprecated in version 1.4 and will be removed in 1.6. To calculate the root mean squared error, use the function'root_mean_squared_error'.\n",
      "  warnings.warn(\n",
      "c:\\nba-salary-kg-project_newest\\venv\\Lib\\site-packages\\sklearn\\metrics\\_regression.py:492: FutureWarning: 'squared' is deprecated in version 1.4 and will be removed in 1.6. To calculate the root mean squared error, use the function'root_mean_squared_error'.\n",
      "  warnings.warn(\n"
     ]
    },
    {
     "name": "stdout",
     "output_type": "stream",
     "text": [
      "[core/MLP] target=log_salary_cap_ratio  R^2=0.5657  RMSE=0.052247\n",
      "[core/Ridge] target=log_salary_cap_ratio  R^2=0.6334  RMSE=0.048006\n"
     ]
    },
    {
     "name": "stderr",
     "output_type": "stream",
     "text": [
      "c:\\nba-salary-kg-project_newest\\venv\\Lib\\site-packages\\sklearn\\metrics\\_regression.py:492: FutureWarning: 'squared' is deprecated in version 1.4 and will be removed in 1.6. To calculate the root mean squared error, use the function'root_mean_squared_error'.\n",
      "  warnings.warn(\n"
     ]
    },
    {
     "name": "stdout",
     "output_type": "stream",
     "text": [
      "[core/RF] target=salary_usd  R^2=0.7019  RMSE=6973368.942916\n"
     ]
    },
    {
     "name": "stderr",
     "output_type": "stream",
     "text": [
      "c:\\nba-salary-kg-project_newest\\venv\\Lib\\site-packages\\sklearn\\metrics\\_regression.py:492: FutureWarning: 'squared' is deprecated in version 1.4 and will be removed in 1.6. To calculate the root mean squared error, use the function'root_mean_squared_error'.\n",
      "  warnings.warn(\n"
     ]
    },
    {
     "name": "stdout",
     "output_type": "stream",
     "text": [
      "[core/XGB] target=salary_usd  R^2=0.6869  RMSE=7147460.945609\n",
      "[LightGBM] [Info] Auto-choosing col-wise multi-threading, the overhead of testing was 0.000140 seconds.\n",
      "You can set `force_col_wise=true` to remove the overhead.\n",
      "[LightGBM] [Info] Total Bins 1493\n",
      "[LightGBM] [Info] Number of data points in the train set: 1659, number of used features: 10\n",
      "[LightGBM] [Info] Start training from score 9307824.515973\n"
     ]
    },
    {
     "name": "stderr",
     "output_type": "stream",
     "text": [
      "c:\\nba-salary-kg-project_newest\\venv\\Lib\\site-packages\\sklearn\\metrics\\_regression.py:492: FutureWarning: 'squared' is deprecated in version 1.4 and will be removed in 1.6. To calculate the root mean squared error, use the function'root_mean_squared_error'.\n",
      "  warnings.warn(\n"
     ]
    },
    {
     "name": "stdout",
     "output_type": "stream",
     "text": [
      "[core/LGBM] target=salary_usd  R^2=0.6772  RMSE=7256699.152064\n"
     ]
    },
    {
     "name": "stderr",
     "output_type": "stream",
     "text": [
      "c:\\nba-salary-kg-project_newest\\venv\\Lib\\site-packages\\sklearn\\neural_network\\_multilayer_perceptron.py:690: ConvergenceWarning: Stochastic Optimizer: Maximum iterations (800) reached and the optimization hasn't converged yet.\n",
      "  warnings.warn(\n",
      "c:\\nba-salary-kg-project_newest\\venv\\Lib\\site-packages\\sklearn\\metrics\\_regression.py:492: FutureWarning: 'squared' is deprecated in version 1.4 and will be removed in 1.6. To calculate the root mean squared error, use the function'root_mean_squared_error'.\n",
      "  warnings.warn(\n",
      "c:\\nba-salary-kg-project_newest\\venv\\Lib\\site-packages\\sklearn\\metrics\\_regression.py:492: FutureWarning: 'squared' is deprecated in version 1.4 and will be removed in 1.6. To calculate the root mean squared error, use the function'root_mean_squared_error'.\n",
      "  warnings.warn(\n"
     ]
    },
    {
     "name": "stdout",
     "output_type": "stream",
     "text": [
      "[core/MLP] target=salary_usd  R^2=0.5031  RMSE=9003196.921358\n",
      "[core/Ridge] target=salary_usd  R^2=0.5921  RMSE=8157298.463107\n"
     ]
    },
    {
     "name": "stderr",
     "output_type": "stream",
     "text": [
      "c:\\nba-salary-kg-project_newest\\venv\\Lib\\site-packages\\sklearn\\metrics\\_regression.py:492: FutureWarning: 'squared' is deprecated in version 1.4 and will be removed in 1.6. To calculate the root mean squared error, use the function'root_mean_squared_error'.\n",
      "  warnings.warn(\n"
     ]
    },
    {
     "name": "stdout",
     "output_type": "stream",
     "text": [
      "[core/RF] target=log_salary  R^2=0.5248  RMSE=0.800851\n"
     ]
    },
    {
     "name": "stderr",
     "output_type": "stream",
     "text": [
      "c:\\nba-salary-kg-project_newest\\venv\\Lib\\site-packages\\sklearn\\metrics\\_regression.py:492: FutureWarning: 'squared' is deprecated in version 1.4 and will be removed in 1.6. To calculate the root mean squared error, use the function'root_mean_squared_error'.\n",
      "  warnings.warn(\n"
     ]
    },
    {
     "name": "stdout",
     "output_type": "stream",
     "text": [
      "[core/XGB] target=log_salary  R^2=0.5149  RMSE=0.809181\n",
      "[LightGBM] [Info] Auto-choosing col-wise multi-threading, the overhead of testing was 0.000191 seconds.\n",
      "You can set `force_col_wise=true` to remove the overhead.\n",
      "[LightGBM] [Info] Total Bins 1493\n",
      "[LightGBM] [Info] Number of data points in the train set: 1659, number of used features: 10\n",
      "[LightGBM] [Info] Start training from score 15.414125\n"
     ]
    },
    {
     "name": "stderr",
     "output_type": "stream",
     "text": [
      "c:\\nba-salary-kg-project_newest\\venv\\Lib\\site-packages\\sklearn\\metrics\\_regression.py:492: FutureWarning: 'squared' is deprecated in version 1.4 and will be removed in 1.6. To calculate the root mean squared error, use the function'root_mean_squared_error'.\n",
      "  warnings.warn(\n"
     ]
    },
    {
     "name": "stdout",
     "output_type": "stream",
     "text": [
      "[core/LGBM] target=log_salary  R^2=0.4630  RMSE=0.851359\n"
     ]
    },
    {
     "name": "stderr",
     "output_type": "stream",
     "text": [
      "c:\\nba-salary-kg-project_newest\\venv\\Lib\\site-packages\\sklearn\\metrics\\_regression.py:492: FutureWarning: 'squared' is deprecated in version 1.4 and will be removed in 1.6. To calculate the root mean squared error, use the function'root_mean_squared_error'.\n",
      "  warnings.warn(\n",
      "c:\\nba-salary-kg-project_newest\\venv\\Lib\\site-packages\\sklearn\\metrics\\_regression.py:492: FutureWarning: 'squared' is deprecated in version 1.4 and will be removed in 1.6. To calculate the root mean squared error, use the function'root_mean_squared_error'.\n",
      "  warnings.warn(\n"
     ]
    },
    {
     "name": "stdout",
     "output_type": "stream",
     "text": [
      "[core/MLP] target=log_salary  R^2=0.5037  RMSE=0.818460\n",
      "[core/Ridge] target=log_salary  R^2=0.5109  RMSE=0.812441\n"
     ]
    },
    {
     "name": "stderr",
     "output_type": "stream",
     "text": [
      "c:\\nba-salary-kg-project_newest\\venv\\Lib\\site-packages\\sklearn\\metrics\\_regression.py:492: FutureWarning: 'squared' is deprecated in version 1.4 and will be removed in 1.6. To calculate the root mean squared error, use the function'root_mean_squared_error'.\n",
      "  warnings.warn(\n"
     ]
    },
    {
     "name": "stdout",
     "output_type": "stream",
     "text": [
      "[full/RF] target=salary_cap_ratio  R^2=0.7443  RMSE=0.045943\n"
     ]
    },
    {
     "name": "stderr",
     "output_type": "stream",
     "text": [
      "c:\\nba-salary-kg-project_newest\\venv\\Lib\\site-packages\\sklearn\\metrics\\_regression.py:492: FutureWarning: 'squared' is deprecated in version 1.4 and will be removed in 1.6. To calculate the root mean squared error, use the function'root_mean_squared_error'.\n",
      "  warnings.warn(\n"
     ]
    },
    {
     "name": "stdout",
     "output_type": "stream",
     "text": [
      "[full/XGB] target=salary_cap_ratio  R^2=0.7278  RMSE=0.047398\n",
      "[LightGBM] [Info] Auto-choosing col-wise multi-threading, the overhead of testing was 0.000385 seconds.\n",
      "You can set `force_col_wise=true` to remove the overhead.\n",
      "[LightGBM] [Info] Total Bins 7215\n",
      "[LightGBM] [Info] Number of data points in the train set: 1659, number of used features: 40\n",
      "[LightGBM] [Info] Start training from score 0.077255\n"
     ]
    },
    {
     "name": "stderr",
     "output_type": "stream",
     "text": [
      "c:\\nba-salary-kg-project_newest\\venv\\Lib\\site-packages\\sklearn\\metrics\\_regression.py:492: FutureWarning: 'squared' is deprecated in version 1.4 and will be removed in 1.6. To calculate the root mean squared error, use the function'root_mean_squared_error'.\n",
      "  warnings.warn(\n"
     ]
    },
    {
     "name": "stdout",
     "output_type": "stream",
     "text": [
      "[full/LGBM] target=salary_cap_ratio  R^2=0.7420  RMSE=0.046151\n"
     ]
    },
    {
     "name": "stderr",
     "output_type": "stream",
     "text": [
      "c:\\nba-salary-kg-project_newest\\venv\\Lib\\site-packages\\sklearn\\metrics\\_regression.py:492: FutureWarning: 'squared' is deprecated in version 1.4 and will be removed in 1.6. To calculate the root mean squared error, use the function'root_mean_squared_error'.\n",
      "  warnings.warn(\n",
      "c:\\nba-salary-kg-project_newest\\venv\\Lib\\site-packages\\sklearn\\metrics\\_regression.py:492: FutureWarning: 'squared' is deprecated in version 1.4 and will be removed in 1.6. To calculate the root mean squared error, use the function'root_mean_squared_error'.\n",
      "  warnings.warn(\n"
     ]
    },
    {
     "name": "stdout",
     "output_type": "stream",
     "text": [
      "[full/MLP] target=salary_cap_ratio  R^2=0.2108  RMSE=0.080713\n",
      "[full/Ridge] target=salary_cap_ratio  R^2=0.6377  RMSE=0.054686\n"
     ]
    },
    {
     "name": "stderr",
     "output_type": "stream",
     "text": [
      "c:\\nba-salary-kg-project_newest\\venv\\Lib\\site-packages\\sklearn\\metrics\\_regression.py:492: FutureWarning: 'squared' is deprecated in version 1.4 and will be removed in 1.6. To calculate the root mean squared error, use the function'root_mean_squared_error'.\n",
      "  warnings.warn(\n"
     ]
    },
    {
     "name": "stdout",
     "output_type": "stream",
     "text": [
      "[full/RF] target=salary_cap_equiv  R^2=0.7444  RMSE=6457951.869355\n"
     ]
    },
    {
     "name": "stderr",
     "output_type": "stream",
     "text": [
      "c:\\nba-salary-kg-project_newest\\venv\\Lib\\site-packages\\sklearn\\metrics\\_regression.py:492: FutureWarning: 'squared' is deprecated in version 1.4 and will be removed in 1.6. To calculate the root mean squared error, use the function'root_mean_squared_error'.\n",
      "  warnings.warn(\n"
     ]
    },
    {
     "name": "stdout",
     "output_type": "stream",
     "text": [
      "[full/XGB] target=salary_cap_equiv  R^2=0.7261  RMSE=6684377.726534\n",
      "[LightGBM] [Info] Auto-choosing col-wise multi-threading, the overhead of testing was 0.000846 seconds.\n",
      "You can set `force_col_wise=true` to remove the overhead.\n",
      "[LightGBM] [Info] Total Bins 7215\n",
      "[LightGBM] [Info] Number of data points in the train set: 1659, number of used features: 40\n",
      "[LightGBM] [Info] Start training from score 10861147.057087\n"
     ]
    },
    {
     "name": "stderr",
     "output_type": "stream",
     "text": [
      "c:\\nba-salary-kg-project_newest\\venv\\Lib\\site-packages\\sklearn\\metrics\\_regression.py:492: FutureWarning: 'squared' is deprecated in version 1.4 and will be removed in 1.6. To calculate the root mean squared error, use the function'root_mean_squared_error'.\n",
      "  warnings.warn(\n"
     ]
    },
    {
     "name": "stdout",
     "output_type": "stream",
     "text": [
      "[full/LGBM] target=salary_cap_equiv  R^2=0.7420  RMSE=6488343.568363\n"
     ]
    },
    {
     "name": "stderr",
     "output_type": "stream",
     "text": [
      "c:\\nba-salary-kg-project_newest\\venv\\Lib\\site-packages\\sklearn\\neural_network\\_multilayer_perceptron.py:690: ConvergenceWarning: Stochastic Optimizer: Maximum iterations (800) reached and the optimization hasn't converged yet.\n",
      "  warnings.warn(\n",
      "c:\\nba-salary-kg-project_newest\\venv\\Lib\\site-packages\\sklearn\\metrics\\_regression.py:492: FutureWarning: 'squared' is deprecated in version 1.4 and will be removed in 1.6. To calculate the root mean squared error, use the function'root_mean_squared_error'.\n",
      "  warnings.warn(\n",
      "c:\\nba-salary-kg-project_newest\\venv\\Lib\\site-packages\\sklearn\\metrics\\_regression.py:492: FutureWarning: 'squared' is deprecated in version 1.4 and will be removed in 1.6. To calculate the root mean squared error, use the function'root_mean_squared_error'.\n",
      "  warnings.warn(\n"
     ]
    },
    {
     "name": "stdout",
     "output_type": "stream",
     "text": [
      "[full/MLP] target=salary_cap_equiv  R^2=0.5083  RMSE=8955955.705748\n",
      "[full/Ridge] target=salary_cap_equiv  R^2=0.6377  RMSE=7688226.447107\n"
     ]
    },
    {
     "name": "stderr",
     "output_type": "stream",
     "text": [
      "c:\\nba-salary-kg-project_newest\\venv\\Lib\\site-packages\\sklearn\\metrics\\_regression.py:492: FutureWarning: 'squared' is deprecated in version 1.4 and will be removed in 1.6. To calculate the root mean squared error, use the function'root_mean_squared_error'.\n",
      "  warnings.warn(\n"
     ]
    },
    {
     "name": "stdout",
     "output_type": "stream",
     "text": [
      "[full/RF] target=log_salary_cap_ratio  R^2=0.7410  RMSE=0.040351\n"
     ]
    },
    {
     "name": "stderr",
     "output_type": "stream",
     "text": [
      "c:\\nba-salary-kg-project_newest\\venv\\Lib\\site-packages\\sklearn\\metrics\\_regression.py:492: FutureWarning: 'squared' is deprecated in version 1.4 and will be removed in 1.6. To calculate the root mean squared error, use the function'root_mean_squared_error'.\n",
      "  warnings.warn(\n"
     ]
    },
    {
     "name": "stdout",
     "output_type": "stream",
     "text": [
      "[full/XGB] target=log_salary_cap_ratio  R^2=0.7290  RMSE=0.041274\n",
      "[LightGBM] [Info] Auto-choosing col-wise multi-threading, the overhead of testing was 0.001243 seconds.\n",
      "You can set `force_col_wise=true` to remove the overhead.\n",
      "[LightGBM] [Info] Total Bins 7215\n",
      "[LightGBM] [Info] Number of data points in the train set: 1659, number of used features: 40\n",
      "[LightGBM] [Info] Start training from score 0.071419\n"
     ]
    },
    {
     "name": "stderr",
     "output_type": "stream",
     "text": [
      "c:\\nba-salary-kg-project_newest\\venv\\Lib\\site-packages\\sklearn\\metrics\\_regression.py:492: FutureWarning: 'squared' is deprecated in version 1.4 and will be removed in 1.6. To calculate the root mean squared error, use the function'root_mean_squared_error'.\n",
      "  warnings.warn(\n"
     ]
    },
    {
     "name": "stdout",
     "output_type": "stream",
     "text": [
      "[full/LGBM] target=log_salary_cap_ratio  R^2=0.7403  RMSE=0.040400\n"
     ]
    },
    {
     "name": "stderr",
     "output_type": "stream",
     "text": [
      "c:\\nba-salary-kg-project_newest\\venv\\Lib\\site-packages\\sklearn\\metrics\\_regression.py:492: FutureWarning: 'squared' is deprecated in version 1.4 and will be removed in 1.6. To calculate the root mean squared error, use the function'root_mean_squared_error'.\n",
      "  warnings.warn(\n",
      "c:\\nba-salary-kg-project_newest\\venv\\Lib\\site-packages\\sklearn\\metrics\\_regression.py:492: FutureWarning: 'squared' is deprecated in version 1.4 and will be removed in 1.6. To calculate the root mean squared error, use the function'root_mean_squared_error'.\n",
      "  warnings.warn(\n"
     ]
    },
    {
     "name": "stdout",
     "output_type": "stream",
     "text": [
      "[full/MLP] target=log_salary_cap_ratio  R^2=0.1076  RMSE=0.074896\n",
      "[full/Ridge] target=log_salary_cap_ratio  R^2=0.6395  RMSE=0.047605\n"
     ]
    },
    {
     "name": "stderr",
     "output_type": "stream",
     "text": [
      "c:\\nba-salary-kg-project_newest\\venv\\Lib\\site-packages\\sklearn\\metrics\\_regression.py:492: FutureWarning: 'squared' is deprecated in version 1.4 and will be removed in 1.6. To calculate the root mean squared error, use the function'root_mean_squared_error'.\n",
      "  warnings.warn(\n"
     ]
    },
    {
     "name": "stdout",
     "output_type": "stream",
     "text": [
      "[full/RF] target=salary_usd  R^2=0.6992  RMSE=7005608.007570\n"
     ]
    },
    {
     "name": "stderr",
     "output_type": "stream",
     "text": [
      "c:\\nba-salary-kg-project_newest\\venv\\Lib\\site-packages\\sklearn\\metrics\\_regression.py:492: FutureWarning: 'squared' is deprecated in version 1.4 and will be removed in 1.6. To calculate the root mean squared error, use the function'root_mean_squared_error'.\n",
      "  warnings.warn(\n"
     ]
    },
    {
     "name": "stdout",
     "output_type": "stream",
     "text": [
      "[full/XGB] target=salary_usd  R^2=0.6815  RMSE=7208189.645891\n",
      "[LightGBM] [Info] Auto-choosing col-wise multi-threading, the overhead of testing was 0.000614 seconds.\n",
      "You can set `force_col_wise=true` to remove the overhead.\n",
      "[LightGBM] [Info] Total Bins 7215\n",
      "[LightGBM] [Info] Number of data points in the train set: 1659, number of used features: 40\n",
      "[LightGBM] [Info] Start training from score 9307824.515973\n"
     ]
    },
    {
     "name": "stderr",
     "output_type": "stream",
     "text": [
      "c:\\nba-salary-kg-project_newest\\venv\\Lib\\site-packages\\sklearn\\metrics\\_regression.py:492: FutureWarning: 'squared' is deprecated in version 1.4 and will be removed in 1.6. To calculate the root mean squared error, use the function'root_mean_squared_error'.\n",
      "  warnings.warn(\n"
     ]
    },
    {
     "name": "stdout",
     "output_type": "stream",
     "text": [
      "[full/LGBM] target=salary_usd  R^2=0.6934  RMSE=7072126.892947\n"
     ]
    },
    {
     "name": "stderr",
     "output_type": "stream",
     "text": [
      "c:\\nba-salary-kg-project_newest\\venv\\Lib\\site-packages\\sklearn\\neural_network\\_multilayer_perceptron.py:690: ConvergenceWarning: Stochastic Optimizer: Maximum iterations (800) reached and the optimization hasn't converged yet.\n",
      "  warnings.warn(\n",
      "c:\\nba-salary-kg-project_newest\\venv\\Lib\\site-packages\\sklearn\\metrics\\_regression.py:492: FutureWarning: 'squared' is deprecated in version 1.4 and will be removed in 1.6. To calculate the root mean squared error, use the function'root_mean_squared_error'.\n",
      "  warnings.warn(\n",
      "c:\\nba-salary-kg-project_newest\\venv\\Lib\\site-packages\\sklearn\\metrics\\_regression.py:492: FutureWarning: 'squared' is deprecated in version 1.4 and will be removed in 1.6. To calculate the root mean squared error, use the function'root_mean_squared_error'.\n",
      "  warnings.warn(\n"
     ]
    },
    {
     "name": "stdout",
     "output_type": "stream",
     "text": [
      "[full/MLP] target=salary_usd  R^2=0.4862  RMSE=9155185.804067\n",
      "[full/Ridge] target=salary_usd  R^2=0.5987  RMSE=8091256.738129\n"
     ]
    },
    {
     "name": "stderr",
     "output_type": "stream",
     "text": [
      "c:\\nba-salary-kg-project_newest\\venv\\Lib\\site-packages\\sklearn\\metrics\\_regression.py:492: FutureWarning: 'squared' is deprecated in version 1.4 and will be removed in 1.6. To calculate the root mean squared error, use the function'root_mean_squared_error'.\n",
      "  warnings.warn(\n"
     ]
    },
    {
     "name": "stdout",
     "output_type": "stream",
     "text": [
      "[full/RF] target=log_salary  R^2=0.5477  RMSE=0.781340\n"
     ]
    },
    {
     "name": "stderr",
     "output_type": "stream",
     "text": [
      "c:\\nba-salary-kg-project_newest\\venv\\Lib\\site-packages\\sklearn\\metrics\\_regression.py:492: FutureWarning: 'squared' is deprecated in version 1.4 and will be removed in 1.6. To calculate the root mean squared error, use the function'root_mean_squared_error'.\n",
      "  warnings.warn(\n"
     ]
    },
    {
     "name": "stdout",
     "output_type": "stream",
     "text": [
      "[full/XGB] target=log_salary  R^2=0.5332  RMSE=0.793743\n",
      "[LightGBM] [Info] Auto-choosing col-wise multi-threading, the overhead of testing was 0.000825 seconds.\n",
      "You can set `force_col_wise=true` to remove the overhead.\n",
      "[LightGBM] [Info] Total Bins 7215\n",
      "[LightGBM] [Info] Number of data points in the train set: 1659, number of used features: 40\n",
      "[LightGBM] [Info] Start training from score 15.414125\n"
     ]
    },
    {
     "name": "stderr",
     "output_type": "stream",
     "text": [
      "c:\\nba-salary-kg-project_newest\\venv\\Lib\\site-packages\\sklearn\\metrics\\_regression.py:492: FutureWarning: 'squared' is deprecated in version 1.4 and will be removed in 1.6. To calculate the root mean squared error, use the function'root_mean_squared_error'.\n",
      "  warnings.warn(\n"
     ]
    },
    {
     "name": "stdout",
     "output_type": "stream",
     "text": [
      "[full/LGBM] target=log_salary  R^2=0.5126  RMSE=0.811062\n",
      "[full/MLP] target=log_salary  R^2=0.1655  RMSE=1.061237\n",
      "[full/Ridge] target=log_salary  R^2=0.5022  RMSE=0.819696\n",
      "[Saved] reports\\EDA4_time_split\\20251028_162508\\metrics_all.csv\n"
     ]
    },
    {
     "name": "stderr",
     "output_type": "stream",
     "text": [
      "c:\\nba-salary-kg-project_newest\\venv\\Lib\\site-packages\\sklearn\\metrics\\_regression.py:492: FutureWarning: 'squared' is deprecated in version 1.4 and will be removed in 1.6. To calculate the root mean squared error, use the function'root_mean_squared_error'.\n",
      "  warnings.warn(\n",
      "c:\\nba-salary-kg-project_newest\\venv\\Lib\\site-packages\\sklearn\\metrics\\_regression.py:492: FutureWarning: 'squared' is deprecated in version 1.4 and will be removed in 1.6. To calculate the root mean squared error, use the function'root_mean_squared_error'.\n",
      "  warnings.warn(\n"
     ]
    }
   ],
   "source": [
    "# %% run all: for core + full, for all TARGETS\n",
    "all_metrics = []\n",
    "\n",
    "for feature_tag, feats in [(\"core\", core_feats), (\"full\", full_feats)]:\n",
    "    # 只保留存在的特征列\n",
    "    feats_exist = [c for c in feats if c in df.columns]\n",
    "    missing_feats = list(set(feats) - set(feats_exist))\n",
    "    if missing_feats:\n",
    "        print(f\"[WARN] {feature_tag} missing {len(missing_feats)} cols (ignored): {missing_feats[:5]} ...\")\n",
    "\n",
    "    # X/y 构造\n",
    "    Xtr_base = df_train[feats_exist].copy()\n",
    "    Xte_base = df_test[feats_exist].copy()\n",
    "\n",
    "    for tgt in TARGETS:\n",
    "        # 有些目标是 log_xxx, 某些赛季可能有 0 值 → 已在特征工程阶段处理；若仍有缺失，这里兜底\n",
    "        ytr = df_train[tgt].astype(float).fillna(0.0)\n",
    "        yte = df_test[tgt].astype(float).fillna(0.0)\n",
    "\n",
    "        # 非线性（树类 + MLP）\n",
    "        fitters = [fit_rf, fit_xgb, fit_lgbm, fit_mlp, fit_ridge]  # 都跑；Ridge 放最后\n",
    "\n",
    "        out_dir_sub = OUT_DIR / f\"{feature_tag}_{tgt}\"\n",
    "        out_dir_sub.mkdir(parents=True, exist_ok=True)\n",
    "\n",
    "        metrics_df = evaluate_and_log(\n",
    "            split_tag=\"time-split(2020-23→2024-25)\",\n",
    "            target=tgt,\n",
    "            feature_tag=feature_tag,\n",
    "            Xtr=Xtr_base, ytr=ytr, Xte=Xte_base, yte=yte,\n",
    "            fitters=fitters,\n",
    "            out_dir=out_dir_sub\n",
    "        )\n",
    "        metrics_df.to_csv(out_dir_sub / \"metrics.csv\", index=False)\n",
    "        all_metrics.append(metrics_df)\n",
    "\n",
    "# 汇总保存\n",
    "all_metrics = pd.concat(all_metrics, ignore_index=True)\n",
    "all_metrics.to_csv(OUT_DIR / \"metrics_all.csv\", index=False)\n",
    "\n",
    "print(f\"[Saved] {OUT_DIR/'metrics_all.csv'}\")"
   ]
  },
  {
   "cell_type": "code",
   "execution_count": 14,
   "id": "ca167150",
   "metadata": {},
   "outputs": [
    {
     "data": {
      "text/html": [
       "<div>\n",
       "<style scoped>\n",
       "    .dataframe tbody tr th:only-of-type {\n",
       "        vertical-align: middle;\n",
       "    }\n",
       "\n",
       "    .dataframe tbody tr th {\n",
       "        vertical-align: top;\n",
       "    }\n",
       "\n",
       "    .dataframe thead th {\n",
       "        text-align: right;\n",
       "    }\n",
       "</style>\n",
       "<table border=\"1\" class=\"dataframe\">\n",
       "  <thead>\n",
       "    <tr style=\"text-align: right;\">\n",
       "      <th></th>\n",
       "      <th>split</th>\n",
       "      <th>features</th>\n",
       "      <th>model</th>\n",
       "      <th>target</th>\n",
       "      <th>R2</th>\n",
       "      <th>RMSE</th>\n",
       "    </tr>\n",
       "  </thead>\n",
       "  <tbody>\n",
       "    <tr>\n",
       "      <th>0</th>\n",
       "      <td>time-split(2020-23→2024-25)</td>\n",
       "      <td>full</td>\n",
       "      <td>RF</td>\n",
       "      <td>log_salary</td>\n",
       "      <td>0.547662</td>\n",
       "      <td>7.813396e-01</td>\n",
       "    </tr>\n",
       "    <tr>\n",
       "      <th>1</th>\n",
       "      <td>time-split(2020-23→2024-25)</td>\n",
       "      <td>full</td>\n",
       "      <td>RF</td>\n",
       "      <td>log_salary_cap_ratio</td>\n",
       "      <td>0.740957</td>\n",
       "      <td>4.035119e-02</td>\n",
       "    </tr>\n",
       "    <tr>\n",
       "      <th>2</th>\n",
       "      <td>time-split(2020-23→2024-25)</td>\n",
       "      <td>full</td>\n",
       "      <td>RF</td>\n",
       "      <td>salary_cap_equiv</td>\n",
       "      <td>0.744363</td>\n",
       "      <td>6.457952e+06</td>\n",
       "    </tr>\n",
       "    <tr>\n",
       "      <th>3</th>\n",
       "      <td>time-split(2020-23→2024-25)</td>\n",
       "      <td>full</td>\n",
       "      <td>RF</td>\n",
       "      <td>salary_cap_ratio</td>\n",
       "      <td>0.744282</td>\n",
       "      <td>4.594259e-02</td>\n",
       "    </tr>\n",
       "    <tr>\n",
       "      <th>4</th>\n",
       "      <td>time-split(2020-23→2024-25)</td>\n",
       "      <td>core</td>\n",
       "      <td>RF</td>\n",
       "      <td>salary_usd</td>\n",
       "      <td>0.701929</td>\n",
       "      <td>6.973369e+06</td>\n",
       "    </tr>\n",
       "  </tbody>\n",
       "</table>\n",
       "</div>"
      ],
      "text/plain": [
       "                         split features model                target        R2  \\\n",
       "0  time-split(2020-23→2024-25)     full    RF            log_salary  0.547662   \n",
       "1  time-split(2020-23→2024-25)     full    RF  log_salary_cap_ratio  0.740957   \n",
       "2  time-split(2020-23→2024-25)     full    RF      salary_cap_equiv  0.744363   \n",
       "3  time-split(2020-23→2024-25)     full    RF      salary_cap_ratio  0.744282   \n",
       "4  time-split(2020-23→2024-25)     core    RF            salary_usd  0.701929   \n",
       "\n",
       "           RMSE  \n",
       "0  7.813396e-01  \n",
       "1  4.035119e-02  \n",
       "2  6.457952e+06  \n",
       "3  4.594259e-02  \n",
       "4  6.973369e+06  "
      ]
     },
     "execution_count": 14,
     "metadata": {},
     "output_type": "execute_result"
    }
   ],
   "source": [
    "# %% 小结：按 target 聚合最优模型\n",
    "best_rows = []\n",
    "for tgt, g in all_metrics.groupby(\"target\"):\n",
    "    # 你也可以分 core/full 维度各自取最优\n",
    "    best = g.sort_values(\"R2\", ascending=False).head(1).copy()\n",
    "    best_rows.append(best)\n",
    "best_table = pd.concat(best_rows, ignore_index=True)\n",
    "best_table"
   ]
  },
  {
   "cell_type": "code",
   "execution_count": 16,
   "id": "0aba6363",
   "metadata": {},
   "outputs": [
    {
     "name": "stdout",
     "output_type": "stream",
     "text": [
      "[Saved] reports\\EDA4_time_split\\20251028_162508\\best_by_target.csv\n"
     ]
    }
   ],
   "source": [
    "# %% 保存 best_table\n",
    "best_table.to_csv(OUT_DIR / \"best_by_target.csv\", index=False)\n",
    "print(f\"[Saved] {OUT_DIR/'best_by_target.csv'}\")\n"
   ]
  }
 ],
 "metadata": {
  "kernelspec": {
   "display_name": "venv",
   "language": "python",
   "name": "python3"
  },
  "language_info": {
   "codemirror_mode": {
    "name": "ipython",
    "version": 3
   },
   "file_extension": ".py",
   "mimetype": "text/x-python",
   "name": "python",
   "nbconvert_exporter": "python",
   "pygments_lexer": "ipython3",
   "version": "3.13.9"
  }
 },
 "nbformat": 4,
 "nbformat_minor": 5
}
