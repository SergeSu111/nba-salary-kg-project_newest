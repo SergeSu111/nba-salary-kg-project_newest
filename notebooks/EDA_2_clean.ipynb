{
 "cells": [
  {
   "cell_type": "markdown",
   "id": "b1d81363",
   "metadata": {},
   "source": [
    "清洗后的EDA 验证清洗是否成功 是否之前查到的问题都解决了 样本是否正常 "
   ]
  },
  {
   "cell_type": "code",
   "execution_count": null,
   "id": "f7517fab",
   "metadata": {
    "vscode": {
     "languageId": "plaintext"
    }
   },
   "outputs": [],
   "source": []
  }
 ],
 "metadata": {
  "language_info": {
   "name": "python"
  }
 },
 "nbformat": 4,
 "nbformat_minor": 5
}
